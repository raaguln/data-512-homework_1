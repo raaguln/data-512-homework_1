{
  "cells": [
    {
      "cell_type": "markdown",
      "metadata": {
        "id": "xS_LvVEJz_1j"
      },
      "source": [
        "# Data Acquisition\n",
        "\n",
        "In this notebook, we will work only on extracting the data for the Wikipedia pages that is provided in the file `rare-diseases_cleaned.AUG.2024.csv`. The data acquisition and data analysis is kept separate to improve user experience and reproducibility. Data collection takes 30-40m on its own, so keeping it separate allows users who are only interested in data analysis to run it separately without having to wait for 30-40m.\n",
        "\n",
        "## Setup and loading the necessary packages\n",
        "Note - this analysis was done in Google Colab, which is a Jupyter Notebook setup that runs in cloud. It gets the data files from your Google Drive, for which it requires the below snipped works by making the data files available in Google Drive.\n",
        "\n"
      ]
    },
    {
      "cell_type": "code",
      "execution_count": null,
      "metadata": {
        "colab": {
          "base_uri": "https://localhost:8080/"
        },
        "id": "OzIxAj0H0BVE",
        "outputId": "45992d57-12db-41c7-acd9-7be7e6bf69d2"
      },
      "outputs": [
        {
          "name": "stdout",
          "output_type": "stream",
          "text": [
            "Mounted at /content/drive\n"
          ]
        }
      ],
      "source": [
        "from google.colab import drive\n",
        "drive.mount('/content/drive')"
      ]
    },
    {
      "cell_type": "markdown",
      "metadata": {
        "id": "VSJw0jxGwdan"
      },
      "source": [
        "Change to the required path where all the data files are located. This will differ for each user."
      ]
    },
    {
      "cell_type": "code",
      "execution_count": null,
      "metadata": {
        "colab": {
          "base_uri": "https://localhost:8080/"
        },
        "id": "SGXEGw8dDUkO",
        "outputId": "cde3fe94-c425-4dd6-8118-b4b0bdfecdd8"
      },
      "outputs": [
        {
          "name": "stdout",
          "output_type": "stream",
          "text": [
            "/content/drive/MyDrive/data 512\n"
          ]
        }
      ],
      "source": [
        "%cd 'drive/MyDrive/data 512'"
      ]
    },
    {
      "cell_type": "markdown",
      "metadata": {
        "id": "khBibdMv1ldI"
      },
      "source": [
        "Here, we load the necessary packages that we'll be using to fetch the data."
      ]
    },
    {
      "cell_type": "code",
      "execution_count": null,
      "metadata": {
        "id": "BBhwMYx_z_1k"
      },
      "outputs": [],
      "source": [
        "# These are standard python modules\n",
        "import json, time, urllib.parse\n",
        "\n",
        "# The 'requests' and 'python' module is not a standard Python module.\n",
        "# You will need to install this with pip/pip3 if you do not already have it\n",
        "import requests\n",
        "import pandas as pd"
      ]
    },
    {
      "cell_type": "markdown",
      "metadata": {
        "id": "OwIifBfLz_1l"
      },
      "source": [
        "## Utility functions definition\n",
        "The example relies on some constants that help make the code a bit more readable."
      ]
    },
    {
      "cell_type": "code",
      "execution_count": null,
      "metadata": {
        "id": "wksTGSJZz_1l"
      },
      "outputs": [],
      "source": [
        "#########\n",
        "#\n",
        "#    CONSTANTS\n",
        "#\n",
        "\n",
        "# The REST API 'pageviews' URL - this is the common URL/endpoint for all 'pageviews' API requests\n",
        "API_REQUEST_PAGEVIEWS_ENDPOINT = 'https://wikimedia.org/api/rest_v1/metrics/pageviews/'\n",
        "\n",
        "# This is a parameterized string that specifies what kind of pageviews request we are going to make\n",
        "# In this case it will be a 'per-article' based request. The string is a format string so that we can\n",
        "# replace each parameter with an appropriate value before making the request\n",
        "API_REQUEST_PER_ARTICLE_PARAMS = 'per-article/{project}/{access}/{agent}/{article}/{granularity}/{start}/{end}'\n",
        "\n",
        "# The Pageviews API asks that we not exceed 100 requests per second, we add a small delay to each request\n",
        "API_LATENCY_ASSUMED = 0.002       # Assuming roughly 2ms latency on the API and network\n",
        "API_THROTTLE_WAIT = (1.0/100.0)-API_LATENCY_ASSUMED\n",
        "\n",
        "# When making a request to the Wikimedia API they ask that you include your email address which will allow them\n",
        "# to contact you if something happens - such as - your code exceeding rate limits - or some other error\n",
        "REQUEST_HEADERS = {\n",
        "    'User-Agent': '<raaguln@uw.edu>, University of Washington, MSDS DATA 512 - AUTUMN 2023',\n",
        "}\n",
        "\n",
        "# This template is used to map parameter values into the API_REQUST_PER_ARTICLE_PARAMS portion of an API request. The dictionary has a\n",
        "# field/key for each of the required parameters. In the example, below, we only vary the article name, so the majority of the fields\n",
        "# can stay constant for each request. Of course, these values *could* be changed if necessary.\n",
        "ARTICLE_PAGEVIEWS_PARAMS_TEMPLATE_DESKTOP = {\n",
        "    \"project\":     \"en.wikipedia.org\",\n",
        "    \"access\":      \"desktop\",      # this should be changed for the different access types\n",
        "    \"agent\":       \"user\",\n",
        "    \"article\":     \"\",             # this value will be set/changed before each request\n",
        "    \"granularity\": \"monthly\",\n",
        "    \"start\":       \"2015010100\",   # start and end dates need to be set\n",
        "    \"end\":         \"2024101000\"    # this is likely the wrong end date\n",
        "}\n",
        "\n",
        "# We use the above params to make some more client-specific params\n",
        "# We make use of Python feature called destructuring dictionaries to do this\n",
        "# elegantly.\n",
        "ARTICLE_PAGEVIEWS_PARAMS_TEMPLATE_MOBILEAPP = {\n",
        "    **ARTICLE_PAGEVIEWS_PARAMS_TEMPLATE_DESKTOP,\n",
        "    \"access\":      \"mobile-app\",\n",
        "}\n",
        "\n",
        "ARTICLE_PAGEVIEWS_PARAMS_TEMPLATE_MOBILEWEB = {\n",
        "    **ARTICLE_PAGEVIEWS_PARAMS_TEMPLATE_DESKTOP,\n",
        "    \"access\":      \"mobile-web\",\n",
        "}\n",
        "\n",
        "ARTICLE_PAGEVIEWS_PARAMS_TEMPLATE_ALLACCESS = {\n",
        "    **ARTICLE_PAGEVIEWS_PARAMS_TEMPLATE_DESKTOP,\n",
        "    \"access\":      \"all-access\",\n",
        "}\n"
      ]
    },
    {
      "cell_type": "markdown",
      "metadata": {
        "id": "ZUgdJ76bz_1l"
      },
      "source": [
        "The API request will be made using one procedure. The idea is to make this reusable. The procedure is parameterized, but relies on the constants above for the important parameters. The underlying assumption is that this will be used to request data for a set of article pages. Therefore the parameter most likely to change is the article_title."
      ]
    },
    {
      "cell_type": "code",
      "execution_count": null,
      "metadata": {
        "id": "db_VVjGZz_1l"
      },
      "outputs": [],
      "source": [
        "#########\n",
        "#\n",
        "#    PROCEDURES/FUNCTIONS\n",
        "#\n",
        "\n",
        "def request_pageviews_per_article(article_title = None,\n",
        "                                  endpoint_url = API_REQUEST_PAGEVIEWS_ENDPOINT,\n",
        "                                  endpoint_params = API_REQUEST_PER_ARTICLE_PARAMS,\n",
        "                                  request_template = ARTICLE_PAGEVIEWS_PARAMS_TEMPLATE_DESKTOP,\n",
        "                                  headers = REQUEST_HEADERS):\n",
        "\n",
        "    # article title can be as a parameter to the call or in the request_template\n",
        "    if article_title:\n",
        "        request_template['article'] = article_title\n",
        "\n",
        "    if not request_template['article']:\n",
        "        raise Exception(\"Must supply an article title to make a pageviews request.\")\n",
        "\n",
        "    # Titles are supposed to have spaces replaced with \"_\" and be URL encoded\n",
        "    article_title_encoded = urllib.parse.quote(request_template['article'].replace(' ','_'), safe='')\n",
        "    # print(article_title_encoded)\n",
        "    request_template['article'] = article_title_encoded\n",
        "\n",
        "    # now, create a request URL by combining the endpoint_url with the parameters for the request\n",
        "    request_url = endpoint_url+endpoint_params.format(**request_template)\n",
        "\n",
        "    # make the request\n",
        "    try:\n",
        "        # we'll wait first, to make sure we don't exceed the limit in the situation where an exception\n",
        "        # occurs during the request processing - throttling is always a good practice with a free\n",
        "        # data source like Wikipedia - or other community sources\n",
        "        if API_THROTTLE_WAIT > 0.0:\n",
        "            time.sleep(API_THROTTLE_WAIT)\n",
        "        response = requests.get(request_url, headers=headers)\n",
        "        json_response = response.json()\n",
        "    except Exception as e:\n",
        "        print(e)\n",
        "        json_response = None\n",
        "    return json_response\n"
      ]
    },
    {
      "cell_type": "markdown",
      "metadata": {
        "id": "J0oQEeNJz_1m"
      },
      "source": [
        "Above output should show dictionaries with views per month"
      ]
    },
    {
      "cell_type": "markdown",
      "metadata": {},
      "source": [
        "## Data fetching and cleaning\n",
        "In this section, we load the rare diseases data and make the API calls to Wikimedia backend to fetch the pageviews information."
      ]
    },
    {
      "cell_type": "code",
      "execution_count": null,
      "metadata": {
        "id": "nnUdn9olz_1m"
      },
      "outputs": [],
      "source": [
        "# Use the pandas library to load the CSV file with the metadata for diseases\n",
        "# which we use to make the API call\n",
        "articles = pd.read_csv(\"rare-disease_cleaned.AUG.2024.csv\")"
      ]
    },
    {
      "cell_type": "code",
      "execution_count": null,
      "metadata": {
        "colab": {
          "base_uri": "https://localhost:8080/",
          "height": 206
        },
        "id": "Zd8no5V0EMz_",
        "outputId": "b5c7a994-59f7-405f-c22e-a37af0768f0f"
      },
      "outputs": [
        {
          "data": {
            "application/vnd.google.colaboratory.intrinsic+json": {
              "summary": "{\n  \"name\": \"articles\",\n  \"rows\": 1773,\n  \"fields\": [\n    {\n      \"column\": \"disease\",\n      \"properties\": {\n        \"dtype\": \"string\",\n        \"num_unique_values\": 1773,\n        \"samples\": [\n          \"Black Death\",\n          \"Phenylalanine\",\n          \"MT-ATP6\"\n        ],\n        \"semantic_type\": \"\",\n        \"description\": \"\"\n      }\n    },\n    {\n      \"column\": \"pageid\",\n      \"properties\": {\n        \"dtype\": \"number\",\n        \"std\": 16299001,\n        \"min\": 967,\n        \"max\": 69198655,\n        \"num_unique_values\": 1773,\n        \"samples\": [\n          4501,\n          38001,\n          14179793\n        ],\n        \"semantic_type\": \"\",\n        \"description\": \"\"\n      }\n    },\n    {\n      \"column\": \"url\",\n      \"properties\": {\n        \"dtype\": \"string\",\n        \"num_unique_values\": 1773,\n        \"samples\": [\n          \"https://en.wikipedia.org/wiki/Black_Death\",\n          \"https://en.wikipedia.org/wiki/Phenylalanine\",\n          \"https://en.wikipedia.org/wiki/MT-ATP6\"\n        ],\n        \"semantic_type\": \"\",\n        \"description\": \"\"\n      }\n    }\n  ]\n}",
              "type": "dataframe",
              "variable_name": "articles"
            },
            "text/html": [
              "\n",
              "  <div id=\"df-327383c4-def6-4188-a6f9-b0a3de7bf062\" class=\"colab-df-container\">\n",
              "    <div>\n",
              "<style scoped>\n",
              "    .dataframe tbody tr th:only-of-type {\n",
              "        vertical-align: middle;\n",
              "    }\n",
              "\n",
              "    .dataframe tbody tr th {\n",
              "        vertical-align: top;\n",
              "    }\n",
              "\n",
              "    .dataframe thead th {\n",
              "        text-align: right;\n",
              "    }\n",
              "</style>\n",
              "<table border=\"1\" class=\"dataframe\">\n",
              "  <thead>\n",
              "    <tr style=\"text-align: right;\">\n",
              "      <th></th>\n",
              "      <th>disease</th>\n",
              "      <th>pageid</th>\n",
              "      <th>url</th>\n",
              "    </tr>\n",
              "  </thead>\n",
              "  <tbody>\n",
              "    <tr>\n",
              "      <th>0</th>\n",
              "      <td>Klinefelter syndrome</td>\n",
              "      <td>19833554</td>\n",
              "      <td>https://en.wikipedia.org/wiki/Klinefelter_synd...</td>\n",
              "    </tr>\n",
              "    <tr>\n",
              "      <th>1</th>\n",
              "      <td>Aarskog–Scott syndrome</td>\n",
              "      <td>7966521</td>\n",
              "      <td>https://en.wikipedia.org/wiki/Aarskog–Scott_sy...</td>\n",
              "    </tr>\n",
              "    <tr>\n",
              "      <th>2</th>\n",
              "      <td>Abetalipoproteinemia</td>\n",
              "      <td>68451</td>\n",
              "      <td>https://en.wikipedia.org/wiki/Abetalipoprotein...</td>\n",
              "    </tr>\n",
              "    <tr>\n",
              "      <th>3</th>\n",
              "      <td>MT-TP</td>\n",
              "      <td>20945466</td>\n",
              "      <td>https://en.wikipedia.org/wiki/MT-TP</td>\n",
              "    </tr>\n",
              "    <tr>\n",
              "      <th>4</th>\n",
              "      <td>Ablepharon macrostomia syndrome</td>\n",
              "      <td>10776100</td>\n",
              "      <td>https://en.wikipedia.org/wiki/Ablepharon_macro...</td>\n",
              "    </tr>\n",
              "  </tbody>\n",
              "</table>\n",
              "</div>\n",
              "    <div class=\"colab-df-buttons\">\n",
              "\n",
              "  <div class=\"colab-df-container\">\n",
              "    <button class=\"colab-df-convert\" onclick=\"convertToInteractive('df-327383c4-def6-4188-a6f9-b0a3de7bf062')\"\n",
              "            title=\"Convert this dataframe to an interactive table.\"\n",
              "            style=\"display:none;\">\n",
              "\n",
              "  <svg xmlns=\"http://www.w3.org/2000/svg\" height=\"24px\" viewBox=\"0 -960 960 960\">\n",
              "    <path d=\"M120-120v-720h720v720H120Zm60-500h600v-160H180v160Zm220 220h160v-160H400v160Zm0 220h160v-160H400v160ZM180-400h160v-160H180v160Zm440 0h160v-160H620v160ZM180-180h160v-160H180v160Zm440 0h160v-160H620v160Z\"/>\n",
              "  </svg>\n",
              "    </button>\n",
              "\n",
              "  <style>\n",
              "    .colab-df-container {\n",
              "      display:flex;\n",
              "      gap: 12px;\n",
              "    }\n",
              "\n",
              "    .colab-df-convert {\n",
              "      background-color: #E8F0FE;\n",
              "      border: none;\n",
              "      border-radius: 50%;\n",
              "      cursor: pointer;\n",
              "      display: none;\n",
              "      fill: #1967D2;\n",
              "      height: 32px;\n",
              "      padding: 0 0 0 0;\n",
              "      width: 32px;\n",
              "    }\n",
              "\n",
              "    .colab-df-convert:hover {\n",
              "      background-color: #E2EBFA;\n",
              "      box-shadow: 0px 1px 2px rgba(60, 64, 67, 0.3), 0px 1px 3px 1px rgba(60, 64, 67, 0.15);\n",
              "      fill: #174EA6;\n",
              "    }\n",
              "\n",
              "    .colab-df-buttons div {\n",
              "      margin-bottom: 4px;\n",
              "    }\n",
              "\n",
              "    [theme=dark] .colab-df-convert {\n",
              "      background-color: #3B4455;\n",
              "      fill: #D2E3FC;\n",
              "    }\n",
              "\n",
              "    [theme=dark] .colab-df-convert:hover {\n",
              "      background-color: #434B5C;\n",
              "      box-shadow: 0px 1px 3px 1px rgba(0, 0, 0, 0.15);\n",
              "      filter: drop-shadow(0px 1px 2px rgba(0, 0, 0, 0.3));\n",
              "      fill: #FFFFFF;\n",
              "    }\n",
              "  </style>\n",
              "\n",
              "    <script>\n",
              "      const buttonEl =\n",
              "        document.querySelector('#df-327383c4-def6-4188-a6f9-b0a3de7bf062 button.colab-df-convert');\n",
              "      buttonEl.style.display =\n",
              "        google.colab.kernel.accessAllowed ? 'block' : 'none';\n",
              "\n",
              "      async function convertToInteractive(key) {\n",
              "        const element = document.querySelector('#df-327383c4-def6-4188-a6f9-b0a3de7bf062');\n",
              "        const dataTable =\n",
              "          await google.colab.kernel.invokeFunction('convertToInteractive',\n",
              "                                                    [key], {});\n",
              "        if (!dataTable) return;\n",
              "\n",
              "        const docLinkHtml = 'Like what you see? Visit the ' +\n",
              "          '<a target=\"_blank\" href=https://colab.research.google.com/notebooks/data_table.ipynb>data table notebook</a>'\n",
              "          + ' to learn more about interactive tables.';\n",
              "        element.innerHTML = '';\n",
              "        dataTable['output_type'] = 'display_data';\n",
              "        await google.colab.output.renderOutput(dataTable, element);\n",
              "        const docLink = document.createElement('div');\n",
              "        docLink.innerHTML = docLinkHtml;\n",
              "        element.appendChild(docLink);\n",
              "      }\n",
              "    </script>\n",
              "  </div>\n",
              "\n",
              "\n",
              "<div id=\"df-fe138533-5c93-4a68-b524-9af98f9abcfc\">\n",
              "  <button class=\"colab-df-quickchart\" onclick=\"quickchart('df-fe138533-5c93-4a68-b524-9af98f9abcfc')\"\n",
              "            title=\"Suggest charts\"\n",
              "            style=\"display:none;\">\n",
              "\n",
              "<svg xmlns=\"http://www.w3.org/2000/svg\" height=\"24px\"viewBox=\"0 0 24 24\"\n",
              "     width=\"24px\">\n",
              "    <g>\n",
              "        <path d=\"M19 3H5c-1.1 0-2 .9-2 2v14c0 1.1.9 2 2 2h14c1.1 0 2-.9 2-2V5c0-1.1-.9-2-2-2zM9 17H7v-7h2v7zm4 0h-2V7h2v10zm4 0h-2v-4h2v4z\"/>\n",
              "    </g>\n",
              "</svg>\n",
              "  </button>\n",
              "\n",
              "<style>\n",
              "  .colab-df-quickchart {\n",
              "      --bg-color: #E8F0FE;\n",
              "      --fill-color: #1967D2;\n",
              "      --hover-bg-color: #E2EBFA;\n",
              "      --hover-fill-color: #174EA6;\n",
              "      --disabled-fill-color: #AAA;\n",
              "      --disabled-bg-color: #DDD;\n",
              "  }\n",
              "\n",
              "  [theme=dark] .colab-df-quickchart {\n",
              "      --bg-color: #3B4455;\n",
              "      --fill-color: #D2E3FC;\n",
              "      --hover-bg-color: #434B5C;\n",
              "      --hover-fill-color: #FFFFFF;\n",
              "      --disabled-bg-color: #3B4455;\n",
              "      --disabled-fill-color: #666;\n",
              "  }\n",
              "\n",
              "  .colab-df-quickchart {\n",
              "    background-color: var(--bg-color);\n",
              "    border: none;\n",
              "    border-radius: 50%;\n",
              "    cursor: pointer;\n",
              "    display: none;\n",
              "    fill: var(--fill-color);\n",
              "    height: 32px;\n",
              "    padding: 0;\n",
              "    width: 32px;\n",
              "  }\n",
              "\n",
              "  .colab-df-quickchart:hover {\n",
              "    background-color: var(--hover-bg-color);\n",
              "    box-shadow: 0 1px 2px rgba(60, 64, 67, 0.3), 0 1px 3px 1px rgba(60, 64, 67, 0.15);\n",
              "    fill: var(--button-hover-fill-color);\n",
              "  }\n",
              "\n",
              "  .colab-df-quickchart-complete:disabled,\n",
              "  .colab-df-quickchart-complete:disabled:hover {\n",
              "    background-color: var(--disabled-bg-color);\n",
              "    fill: var(--disabled-fill-color);\n",
              "    box-shadow: none;\n",
              "  }\n",
              "\n",
              "  .colab-df-spinner {\n",
              "    border: 2px solid var(--fill-color);\n",
              "    border-color: transparent;\n",
              "    border-bottom-color: var(--fill-color);\n",
              "    animation:\n",
              "      spin 1s steps(1) infinite;\n",
              "  }\n",
              "\n",
              "  @keyframes spin {\n",
              "    0% {\n",
              "      border-color: transparent;\n",
              "      border-bottom-color: var(--fill-color);\n",
              "      border-left-color: var(--fill-color);\n",
              "    }\n",
              "    20% {\n",
              "      border-color: transparent;\n",
              "      border-left-color: var(--fill-color);\n",
              "      border-top-color: var(--fill-color);\n",
              "    }\n",
              "    30% {\n",
              "      border-color: transparent;\n",
              "      border-left-color: var(--fill-color);\n",
              "      border-top-color: var(--fill-color);\n",
              "      border-right-color: var(--fill-color);\n",
              "    }\n",
              "    40% {\n",
              "      border-color: transparent;\n",
              "      border-right-color: var(--fill-color);\n",
              "      border-top-color: var(--fill-color);\n",
              "    }\n",
              "    60% {\n",
              "      border-color: transparent;\n",
              "      border-right-color: var(--fill-color);\n",
              "    }\n",
              "    80% {\n",
              "      border-color: transparent;\n",
              "      border-right-color: var(--fill-color);\n",
              "      border-bottom-color: var(--fill-color);\n",
              "    }\n",
              "    90% {\n",
              "      border-color: transparent;\n",
              "      border-bottom-color: var(--fill-color);\n",
              "    }\n",
              "  }\n",
              "</style>\n",
              "\n",
              "  <script>\n",
              "    async function quickchart(key) {\n",
              "      const quickchartButtonEl =\n",
              "        document.querySelector('#' + key + ' button');\n",
              "      quickchartButtonEl.disabled = true;  // To prevent multiple clicks.\n",
              "      quickchartButtonEl.classList.add('colab-df-spinner');\n",
              "      try {\n",
              "        const charts = await google.colab.kernel.invokeFunction(\n",
              "            'suggestCharts', [key], {});\n",
              "      } catch (error) {\n",
              "        console.error('Error during call to suggestCharts:', error);\n",
              "      }\n",
              "      quickchartButtonEl.classList.remove('colab-df-spinner');\n",
              "      quickchartButtonEl.classList.add('colab-df-quickchart-complete');\n",
              "    }\n",
              "    (() => {\n",
              "      let quickchartButtonEl =\n",
              "        document.querySelector('#df-fe138533-5c93-4a68-b524-9af98f9abcfc button');\n",
              "      quickchartButtonEl.style.display =\n",
              "        google.colab.kernel.accessAllowed ? 'block' : 'none';\n",
              "    })();\n",
              "  </script>\n",
              "</div>\n",
              "\n",
              "    </div>\n",
              "  </div>\n"
            ],
            "text/plain": [
              "                           disease    pageid  \\\n",
              "0             Klinefelter syndrome  19833554   \n",
              "1           Aarskog–Scott syndrome   7966521   \n",
              "2             Abetalipoproteinemia     68451   \n",
              "3                            MT-TP  20945466   \n",
              "4  Ablepharon macrostomia syndrome  10776100   \n",
              "\n",
              "                                                 url  \n",
              "0  https://en.wikipedia.org/wiki/Klinefelter_synd...  \n",
              "1  https://en.wikipedia.org/wiki/Aarskog–Scott_sy...  \n",
              "2  https://en.wikipedia.org/wiki/Abetalipoprotein...  \n",
              "3                https://en.wikipedia.org/wiki/MT-TP  \n",
              "4  https://en.wikipedia.org/wiki/Ablepharon_macro...  "
            ]
          },
          "execution_count": 7,
          "metadata": {},
          "output_type": "execute_result"
        }
      ],
      "source": [
        "# Exploratory analysis of the structure of data by looking at the first few entries\n",
        "articles.head()"
      ]
    },
    {
      "cell_type": "markdown",
      "metadata": {
        "id": "CEiFaajD1Nq2"
      },
      "source": [
        "We sort the `articles` data based on the disease name so that the final JSON that we produce at the end of this notebook is always in a predictable order regardless of what order the diseases appear in the file `rare-diseases_cleaned.AUG.2024.csv`."
      ]
    },
    {
      "cell_type": "code",
      "execution_count": null,
      "metadata": {
        "id": "F5wrh-ieh-ll"
      },
      "outputs": [],
      "source": [
        "# Sort the data based on the disease name\n",
        "articles = articles.sort_values('disease')"
      ]
    },
    {
      "cell_type": "markdown",
      "metadata": {
        "id": "j7CDM13GxPKN"
      },
      "source": [
        "The below snippet makes the API call to get all 4 data for each page - desktop, mobile app, mobile web and cumulative pageviews. It takes 30-40 minutes to run the below snippet, so patiently wait for it to complete.\n",
        "\n",
        "Note - we only get the data and do not do any sort of preprocessing methods here to keep the concerns separate - Each code block does one thing, and it does its thing perfectly well to maintain replicability and easy tracability. In this case, this block can only fail if there's some issue on the API side - either the API response format changed, or if the API is down. This makes it easy to debug and replicate."
      ]
    },
    {
      "cell_type": "code",
      "execution_count": null,
      "metadata": {
        "colab": {
          "background_save": true
        },
        "id": "CHT67HEuFRle"
      },
      "outputs": [],
      "source": [
        "# Declaring the necessary dictionaries for each client\n",
        "views_desktop = {}\n",
        "views_mobile_app = {}\n",
        "views_mobile_web = {}\n",
        "views_mobile_allaccess = {}\n",
        "\n",
        "# Iterating through each row we have in the `articles` data\n",
        "for i, row in articles.iterrows():\n",
        "    disease = row['disease']\n",
        "\n",
        "    # Pageviews for desktop\n",
        "    response_desktop = request_pageviews_per_article(\n",
        "        article_title=disease,\n",
        "        request_template=ARTICLE_PAGEVIEWS_PARAMS_TEMPLATE_DESKTOP\n",
        "    )\n",
        "    # Our required data is stored as the value for the key `items`, which is\n",
        "    # what we'll store directly as our required value\n",
        "    views_desktop[disease] = response_desktop['items']\n",
        "\n",
        "    # Pageviews for mobile app\n",
        "    response_mobile_app = request_pageviews_per_article(\n",
        "        article_title=disease,\n",
        "        request_template=ARTICLE_PAGEVIEWS_PARAMS_TEMPLATE_MOBILEAPP\n",
        "    )\n",
        "    # Our required data is stored as the value for the key `items`, which is\n",
        "    # what we'll store directly as our required value\n",
        "    views_mobile_app[disease] = response_mobile_app['items']\n",
        "\n",
        "    # Pageviews for mobile web\n",
        "    response_mobile_web = request_pageviews_per_article(\n",
        "        article_title=disease,\n",
        "        request_template=ARTICLE_PAGEVIEWS_PARAMS_TEMPLATE_MOBILEWEB\n",
        "    )\n",
        "    # Our required data is stored as the value for the key `items`, which is\n",
        "    # what we'll store directly as our required value\n",
        "    views_mobile_web[disease] = response_mobile_web['items']\n",
        "\n",
        "    # Cumulative pageviews for the disease\n",
        "    response_allaccess = request_pageviews_per_article(\n",
        "        article_title=disease,\n",
        "        request_template=ARTICLE_PAGEVIEWS_PARAMS_TEMPLATE_ALLACCESS\n",
        "    )\n",
        "    # Our required data is stored as the value for the key `items`, which is\n",
        "    # what we'll store directly as our required value\n",
        "    views_mobile_allaccess[disease] = response_allaccess['items']"
      ]
    },
    {
      "cell_type": "markdown",
      "metadata": {
        "id": "PZAuxdIMyFaf"
      },
      "source": [
        "Since the `accesss` property for each month is misleading, we will remove it from al datasets."
      ]
    },
    {
      "cell_type": "code",
      "execution_count": null,
      "metadata": {
        "colab": {
          "background_save": true
        },
        "id": "Gtm0vLyFeANc"
      },
      "outputs": [],
      "source": [
        "# Iterate through all datasets and remove `access` from all views data\n",
        "datasets = [views_desktop, views_mobile_app, views_mobile_web]\n",
        "for dataset in datasets:\n",
        "    for disease_pageviews in dataset.values():\n",
        "        for month in disease_pageviews:\n",
        "            # Each entry is a dictionary, so `pop` modifies the memory location\n",
        "            # in place, hence removing our `access` property\n",
        "            month.pop('access', None)\n"
      ]
    },
    {
      "cell_type": "markdown",
      "metadata": {
        "id": "CXDl-nLHyMJh"
      },
      "source": [
        "Since we need a single dataset for all mobile views, we will add up both app and web views into a single dictionary called `views_mobile`.\n",
        "\n",
        "The second part of the code snippet makes sure that the final `views` data is right. This check makes sure that we only have numeric value in `views`, because python supports the plus operation on other data types too (strings, lists), so to avoid issues (if the API response structure changes in future?)."
      ]
    },
    {
      "cell_type": "code",
      "execution_count": null,
      "metadata": {
        "colab": {
          "background_save": true
        },
        "id": "pmOsXyy_1cxT",
        "outputId": "f0001a51-8b5d-4fdf-ce4f-576d3255df5c"
      },
      "outputs": [
        {
          "name": "stdout",
          "output_type": "stream",
          "text": [
            "All good! Mobile pageviews add up!\n"
          ]
        }
      ],
      "source": [
        "# Sum up views from both app and web for mobile, and verify if they added up\n",
        "views_mobile = {}\n",
        "\n",
        "for disease in views_mobile_app.keys():\n",
        "    total_pageviews = []\n",
        "    # Iterate through both app and web data for mobile\n",
        "    for month_app, month_web in zip(views_mobile_app[disease], views_mobile_web[disease]):\n",
        "        # Since both app and web data are same for all properties except `views`,\n",
        "        # we make use of either web or app data (destructure the values into new\n",
        "        # dictionary) and just provide the updated views value\n",
        "        total_pageviews.append({\n",
        "            **month_app,\n",
        "            'views': month_app['views'] + month_web['views']\n",
        "        })\n",
        "    views_mobile[disease] = total_pageviews\n",
        "\n",
        "# Check if the views got summed up properly\n",
        "for disease, total_data in views_mobile.items():\n",
        "    app_data = views_mobile_app[disease]\n",
        "    web_data = views_mobile_web[disease]\n",
        "    for i in range(len(total_data)):\n",
        "        if total_data[i]['views'] != app_data[i]['views'] + web_data[i]['views']:\n",
        "            raise Exception(\"The pageviews don't add up!\")\n",
        "# This code block gets executed only if the entire for loop ran successfully.\n",
        "else:\n",
        "    print(\"All good! Mobile pageviews add up!\")"
      ]
    },
    {
      "cell_type": "markdown",
      "metadata": {},
      "source": [
        "## Writing the final output to JSON files\n",
        "In this section, we write our final dataset to JSON files (easier to read and consume). We do this by making use of the in-built functionality of `json` package. The output file will be stored in the same drive folder as in where this notebook is present. If run locally, it will be stored in the same local folder as this code notebook is present. Modify the paths accordingly to store it in separate folders."
      ]
    },
    {
      "cell_type": "code",
      "execution_count": null,
      "metadata": {
        "colab": {
          "background_save": true
        },
        "id": "RmTaIZAkNToy",
        "outputId": "c01fe0d2-9134-489d-9bc8-8f6d83b296ad"
      },
      "outputs": [
        {
          "name": "stdout",
          "output_type": "stream",
          "text": [
            "rare-disease_monthly_mobile_201501-202409.json created successfully!\n",
            "rare-disease_monthly_desktop_201501-202409.json created successfully!\n",
            "rare-disease_monthly_cumulative_201501-202409.json created successfully!\n"
          ]
        }
      ],
      "source": [
        "# Utility function to write the data to JSON\n",
        "def write_to_json(filename, data):\n",
        "    with open(filename, 'w') as f:\n",
        "        json.dump(data, f, indent=4)\n",
        "        print(f\"{filename} created successfully!\")\n",
        "\n",
        "# This writes the files to the same folder that the code is structured in. If\n",
        "# you want to change the path, make sure you provide the right path.\n",
        "write_to_json('rare-disease_monthly_mobile_201501-202409.json', views_mobile)\n",
        "write_to_json('rare-disease_monthly_desktop_201501-202409.json', views_desktop)\n",
        "write_to_json('rare-disease_monthly_cumulative_201501-202409.json', views_mobile_allaccess)"
      ]
    }
  ],
  "metadata": {
    "colab": {
      "provenance": []
    },
    "kernelspec": {
      "display_name": "Python 3 (ipykernel)",
      "language": "python",
      "name": "python3"
    },
    "language_info": {
      "codemirror_mode": {
        "name": "ipython",
        "version": 3
      },
      "file_extension": ".py",
      "mimetype": "text/x-python",
      "name": "python",
      "nbconvert_exporter": "python",
      "pygments_lexer": "ipython3",
      "version": "3.9.6"
    }
  },
  "nbformat": 4,
  "nbformat_minor": 0
}
